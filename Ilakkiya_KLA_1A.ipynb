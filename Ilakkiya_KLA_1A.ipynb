{
  "nbformat": 4,
  "nbformat_minor": 0,
  "metadata": {
    "colab": {
      "name": "Ilakkiya_KLA_1A.ipynb",
      "provenance": []
    },
    "kernelspec": {
      "name": "python3",
      "display_name": "Python 3"
    },
    "language_info": {
      "name": "python"
    }
  },
  "cells": [
    {
      "cell_type": "code",
      "execution_count": 1,
      "metadata": {
        "id": "zxWnNDdEiFGB"
      },
      "outputs": [],
      "source": [
        "from time import sleep\n",
        "import yaml\n",
        "from yaml.loader import SafeLoader\n",
        "import logging\n",
        "\n",
        "logging.basicConfig(filename='WorkFlowLog.txt', filemode='w',\n",
        "                    format='%(asctime)s;%(message)s', datefmt='%Y-%m-%d %H:%M:%S.000000', level=logging.INFO)\n",
        "\n",
        "\n",
        "def TimeFunction(tName, duration):\n",
        "    sleep(int(duration))\n",
        "\n",
        "\n",
        "Tasks = {\n",
        "    'TimeFunction': TimeFunction\n",
        "}\n",
        "\n",
        "\n",
        "def executeFlow(name, flow):\n",
        "    if flow['Execution'] == 'Sequential':\n",
        "        for key, act in flow['Activities'].items():\n",
        "            log_name = name + '.' + key\n",
        "            act_type = act['Type']\n",
        "            if act_type == 'Flow':\n",
        "                logging.info('%s Entry', log_name)\n",
        "                executeFlow(log_name, act)\n",
        "                logging.info('%s Exit', log_name)\n",
        "            if act_type == 'Task':\n",
        "                executeTask(log_name, act)\n",
        "\n",
        "\n",
        "def executeTask(name, task):\n",
        "    logging.info('%s Entry', name)\n",
        "    logging.info('%s Executing %s', name, str.format(\n",
        "        \"{}({},{})\", task['Function'], task['Inputs']['FunctionInput'], task['Inputs']['ExecutionTime']))\n",
        "    Tasks[task['Function']](task['Inputs']['FunctionInput'],\n",
        "                            task['Inputs']['ExecutionTime'])\n",
        "    logging.info('%s Exit', name)\n",
        "\n",
        "\n",
        "with open('Milestone1A.yaml', 'r') as InputFile:\n",
        "    workflow = list(yaml.load_all(InputFile, Loader=SafeLoader))\n",
        "\n",
        "    for wf in workflow:\n",
        "        for key, value in wf.items():\n",
        "            logging.info('%s Entry', key)\n",
        "            steps = value\n",
        "            if(steps['Type'] == 'Flow'):\n",
        "                executeFlow(key, steps)\n",
        "            if(steps['Type'] == 'Task'):\n",
        "                executeTask(key, steps)\n",
        "            logging.info('%s Exit', key)"
      ]
    }
  ]
}